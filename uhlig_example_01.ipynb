{
 "cells": [
  {
   "cell_type": "code",
   "execution_count": null,
   "metadata": {},
   "outputs": [],
   "source": [
    "#  Uhlig's Exampl1.m\n",
    "#  G. Hansen Indivisible Labor and Business Cycle (JME, 1985)\n",
    "#  Benchmark Real Business Cycle Model \n",
    "\n",
    "import numpy as np\n",
    "\n",
    "N_bar     = 1.0/3\n",
    "Z_bar     = 1\n",
    "rho       = .36\n",
    "delta     = .025\n",
    "R_bar     = 1.01\n",
    "eta       = 1.0\n",
    "psi       = .95\n",
    "Sigma_EPS = .712\n",
    "\n",
    "betta   = 1.0/R_bar\n",
    "YK_bar  = (R_bar + delta - 1)/rho\n",
    "K_bar   = (YK_bar / Z_bar)**(1.0/(rho-1)) * N_bar\n",
    "I_bar   = delta * K_bar\n",
    "Y_bar   = YK_bar * K_bar\n",
    "C_bar   = Y_bar - delta*K_bar\n",
    "A       =  C_bar**(-eta) * (1 - rho) * Y_bar/N_bar    \n",
    "\n",
    "VARNAMES = ['capital    ',\n",
    "                         'consumption',\n",
    "                         'output     ',\n",
    "                         'labor      ',\n",
    "                         'interest   ',\n",
    "                         'investment ',\n",
    "                         'technology ']\n",
    "\n",
    "AA = np.vstack(([0],\n",
    "                          [- K_bar],\n",
    "                          [0],\n",
    "                          [0],\n",
    "                          [0]))\n",
    "\n",
    "\n",
    "BB = np.vstack(([0],\n",
    "           [(1-delta)*K_bar],\n",
    "           [rho],\n",
    "           [0],\n",
    "           [- rho * YK_bar ]))\n",
    "\n",
    "CC = np.vstack(([ -C_bar, Y_bar, 0, 0, -I_bar],\n",
    "           [0,           0,          0,        0,        I_bar],  \n",
    "           [0,           -1,         1-rho,    0,        0],      \n",
    "           [-eta,        1,          -1,       0,        0],      \n",
    "           [0, rho*YK_bar, 0, - R_bar, 0 ]))\n",
    "\n",
    "DD = np.vstack(([0],\n",
    "                           [0],\n",
    "                           [1],\n",
    "                           [0],\n",
    "                           [0]))\n",
    "\n",
    "FF = [ 0 ]\n",
    "\n",
    "GG = [ 0 ]\n",
    "\n",
    "HH = [ 0 ]\n",
    "\n",
    "JJ = np.matrix([ -eta,  0,  0,  1,  0])\n",
    "\n",
    "KK = np.matrix([ eta,   0,  0,  0,  0])\n",
    "\n",
    "LL = [ 0 ]\n",
    "\n",
    "MM = [ 0 ]\n",
    "\n",
    "NN = [psi]\n",
    "\n",
    "Sigma = [Sigma_EPS**2]\n",
    "\n",
    "\n",
    "np.set_printoptions(precision=4, suppress=True)\n",
    "\n",
    "%run Uhlig_solver_abreviated.ipynb\n",
    "\n",
    "\n"
   ]
  },
  {
   "cell_type": "code",
   "execution_count": null,
   "metadata": {},
   "outputs": [],
   "source": []
  },
  {
   "cell_type": "code",
   "execution_count": null,
   "metadata": {},
   "outputs": [],
   "source": []
  },
  {
   "cell_type": "code",
   "execution_count": null,
   "metadata": {},
   "outputs": [],
   "source": []
  },
  {
   "cell_type": "code",
   "execution_count": null,
   "metadata": {},
   "outputs": [],
   "source": []
  },
  {
   "cell_type": "code",
   "execution_count": null,
   "metadata": {},
   "outputs": [],
   "source": []
  },
  {
   "cell_type": "code",
   "execution_count": null,
   "metadata": {},
   "outputs": [],
   "source": []
  },
  {
   "cell_type": "code",
   "execution_count": null,
   "metadata": {},
   "outputs": [],
   "source": []
  },
  {
   "cell_type": "code",
   "execution_count": null,
   "metadata": {},
   "outputs": [],
   "source": []
  },
  {
   "cell_type": "code",
   "execution_count": null,
   "metadata": {},
   "outputs": [],
   "source": []
  },
  {
   "cell_type": "code",
   "execution_count": null,
   "metadata": {},
   "outputs": [],
   "source": []
  },
  {
   "cell_type": "code",
   "execution_count": null,
   "metadata": {},
   "outputs": [],
   "source": []
  },
  {
   "cell_type": "code",
   "execution_count": null,
   "metadata": {},
   "outputs": [],
   "source": []
  },
  {
   "cell_type": "code",
   "execution_count": null,
   "metadata": {},
   "outputs": [],
   "source": []
  },
  {
   "cell_type": "code",
   "execution_count": null,
   "metadata": {},
   "outputs": [],
   "source": []
  },
  {
   "cell_type": "code",
   "execution_count": null,
   "metadata": {},
   "outputs": [],
   "source": [
    "\n"
   ]
  },
  {
   "cell_type": "code",
   "execution_count": null,
   "metadata": {},
   "outputs": [],
   "source": [
    "\n"
   ]
  },
  {
   "cell_type": "markdown",
   "metadata": {},
   "source": [
    "temp.shape"
   ]
  },
  {
   "cell_type": "code",
   "execution_count": null,
   "metadata": {},
   "outputs": [],
   "source": []
  },
  {
   "cell_type": "code",
   "execution_count": null,
   "metadata": {},
   "outputs": [],
   "source": []
  },
  {
   "cell_type": "code",
   "execution_count": null,
   "metadata": {},
   "outputs": [],
   "source": []
  },
  {
   "cell_type": "code",
   "execution_count": null,
   "metadata": {},
   "outputs": [],
   "source": []
  },
  {
   "cell_type": "code",
   "execution_count": null,
   "metadata": {},
   "outputs": [],
   "source": []
  },
  {
   "cell_type": "code",
   "execution_count": null,
   "metadata": {},
   "outputs": [],
   "source": []
  },
  {
   "cell_type": "code",
   "execution_count": null,
   "metadata": {},
   "outputs": [],
   "source": []
  },
  {
   "cell_type": "code",
   "execution_count": null,
   "metadata": {},
   "outputs": [],
   "source": []
  },
  {
   "cell_type": "code",
   "execution_count": null,
   "metadata": {},
   "outputs": [],
   "source": []
  },
  {
   "cell_type": "code",
   "execution_count": null,
   "metadata": {},
   "outputs": [],
   "source": []
  },
  {
   "cell_type": "code",
   "execution_count": null,
   "metadata": {},
   "outputs": [],
   "source": []
  },
  {
   "cell_type": "code",
   "execution_count": null,
   "metadata": {},
   "outputs": [],
   "source": []
  },
  {
   "cell_type": "code",
   "execution_count": null,
   "metadata": {},
   "outputs": [],
   "source": []
  }
 ],
 "metadata": {
  "kernelspec": {
   "display_name": "Python 3",
   "language": "python",
   "name": "python3"
  },
  "language_info": {
   "codemirror_mode": {
    "name": "ipython",
    "version": 3
   },
   "file_extension": ".py",
   "mimetype": "text/x-python",
   "name": "python",
   "nbconvert_exporter": "python",
   "pygments_lexer": "ipython3",
   "version": "3.7.3"
  }
 },
 "nbformat": 4,
 "nbformat_minor": 2
}
