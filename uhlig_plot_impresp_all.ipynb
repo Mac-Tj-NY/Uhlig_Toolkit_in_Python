{
 "cells": [
  {
   "cell_type": "code",
   "execution_count": null,
   "metadata": {},
   "outputs": [],
   "source": [
    "#  This is filename:  Uhlig_plot_impresp_all.ipynb\n",
    "#  It plots all the impulse responses from \n",
    "#  Uhlig_impulse_resp_all.ipynb\n",
    "\n",
    "#  Plot the simulation results for \n",
    "#  Uhlig_impulse_resp_all.ipynb\n",
    "\n",
    "import numpy as np\n",
    "from numpy import hstack, vstack, zeros, dot, eye, kron\n",
    "\n",
    "import scipy as sp\n",
    "from scipy import linalg as la\n",
    "from scipy.linalg import null_space\n",
    "import scipy.optimize as opt\n",
    "\n",
    "import matplotlib.pyplot as plt\n",
    "import pylab\n",
    "\n",
    "np.set_printoptions(precision=4, suppress=True)\n",
    "\n",
    "\n",
    "x = range(0,(Resp_mat.shape[1]))\n",
    "var_x = np.array(x).reshape(Resp_mat.shape[1],1)\n",
    "#print(var_x)\n",
    "#print('  ')\n",
    "\n",
    "variable_counter = 0\n",
    "\n",
    "for variable_counter in range(0,Resp_mat.shape[0]):\n",
    "    y=Resp_mat[variable_counter,:]\n",
    "    var_y = y.reshape(Resp_mat.shape[1],1)\n",
    "    #print('  ')\n",
    "    #print(variable_counter)\n",
    "    #print('  ')\n",
    "    #print(var_y)\n",
    "    #print('  ')\n",
    "\n",
    "    plt.plot(var_x, var_y, color='blue', linestyle='solid', linewidth = 0.5, marker='o', markerfacecolor='blue', markersize=2, label=Resp_mat_named[variable_counter,0])  \n",
    "    pylab.legend(loc='best')\n",
    "    pylab.show()\n",
    "    plt.show() \n",
    "\n",
    "#  or  df.plot(subplots=True, layout=(2,2), ...)\n",
    "#  matplotlib.pyplot.subplot(nrows, ncols, index, **kwargs)\n"
   ]
  },
  {
   "cell_type": "code",
   "execution_count": null,
   "metadata": {},
   "outputs": [],
   "source": []
  }
 ],
 "metadata": {
  "kernelspec": {
   "display_name": "Python 3",
   "language": "python",
   "name": "python3"
  },
  "language_info": {
   "codemirror_mode": {
    "name": "ipython",
    "version": 3
   },
   "file_extension": ".py",
   "mimetype": "text/x-python",
   "name": "python",
   "nbconvert_exporter": "python",
   "pygments_lexer": "ipython3",
   "version": "3.7.3"
  }
 },
 "nbformat": 4,
 "nbformat_minor": 2
}
