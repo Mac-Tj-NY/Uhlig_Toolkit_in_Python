{
 "cells": [
  {
   "cell_type": "code",
   "execution_count": 1,
   "metadata": {},
   "outputs": [
    {
     "name": "stdout",
     "output_type": "stream",
     "text": [
      "qzdiv(): Inputs unchanged!\n",
      "Done. You have the matrices PP QQ  RR  SS  WW.\n"
     ]
    }
   ],
   "source": [
    "#  Uhlig's Exampl0.m\n",
    "#  Stochastic Neoclassical Growth Model\n",
    "\n",
    "import numpy as np\n",
    "\n",
    "Z_bar = 1\n",
    "rho = 0.36\n",
    "delta = 0.025\n",
    "R_bar = 1.01\n",
    "eta = 1.0\n",
    "psi  = 0.95\n",
    "sigma_sigma = 0.712\n",
    "\n",
    "betta   = 1.0/R_bar\n",
    "K_bar   = ((rho*Z_bar)/(R_bar - 1 + delta))**(1.0/(1 - rho))\n",
    "Y_bar   = Z_bar*K_bar**rho\n",
    "C_bar   = Y_bar - delta*K_bar\n",
    "\n",
    "VARNAMES = ['capital ',\n",
    "                         'consumption ',\n",
    "                         'return ',\n",
    "                         'output ',\n",
    "                         'technology '];\n",
    "\n",
    "AA = np.vstack(([0],\n",
    "                          [- K_bar/C_bar], \n",
    "                          [0]))\n",
    "\n",
    "BB = np.vstack(([ - (1 - betta*(1-delta))*(1-rho)],\n",
    "                           [K_bar/(betta * C_bar)], \n",
    "                           [rho]))\n",
    "\n",
    "CC = np.vstack(( [0, -1, 0],\n",
    "                            [-1, 0, 0],\n",
    "                            [0, 0, -1]))\n",
    "\n",
    "DD = np.vstack (([(1- betta*(1-delta))],\n",
    "                            [(1 + delta * K_bar/C_bar)],\n",
    "                            [1]))\n",
    "\n",
    "FF = [0]\n",
    "\n",
    "GG = [0]\n",
    "\n",
    "HH = [0]\n",
    "\n",
    "JJ = [-eta, 1, 0]\n",
    "\n",
    "KK = [eta, 0, 0]\n",
    "\n",
    "LL = [0]\n",
    "\n",
    "MM = [0]\n",
    "\n",
    "NN = [psi]\n",
    "\n",
    "Sigma = [sigma_sigma**2]\n",
    "\n",
    "Sigma_EPS = Sigma\n",
    "\n",
    "\n",
    "%run Uhlig_solver_QZ.ipynb\n"
   ]
  },
  {
   "cell_type": "code",
   "execution_count": 3,
   "metadata": {},
   "outputs": [
    {
     "name": "stdout",
     "output_type": "stream",
     "text": [
      "PP\n",
      "(1, 1)\n",
      "[[0.965]]\n",
      " \n",
      "RR\n",
      "(3, 1)\n",
      "[[ 0.618]\n",
      " [-0.022]\n",
      " [ 0.36 ]]\n",
      " \n",
      "QQ\n",
      "(1, 1)\n",
      "[[0.075]]\n",
      " \n",
      "SS\n",
      "(3, 1)\n",
      "[[0.305]\n",
      " [0.035]\n",
      " [1.   ]]\n",
      " \n",
      "Delta_up =  [[-9.644e+00+0.j -9.882e+00+0.j]\n",
      " [-6.939e-18+0.j -1.436e+00+0.j]]\n",
      " \n",
      "Xi_up =  [[-9.309e+00+0.j -2.972e+01+0.j]\n",
      " [-6.939e-18+0.j -1.502e+00+0.j]]\n",
      " \n",
      "UUU =  [[ 0.997+0.j  0.075+0.j]\n",
      " [ 0.075+0.j -0.997+0.j]]\n",
      " \n",
      "VVV =  [[-0.695+0.j -0.719+0.j]\n",
      " [-0.719+0.j  0.695+0.j]]\n"
     ]
    }
   ],
   "source": [
    "print('PP')\n",
    "print(PP.shape)\n",
    "print(PP)\n",
    "print(' ')\n",
    "print('RR')\n",
    "print(RR.shape)\n",
    "print(RR)\n",
    "print(' ')\n",
    "print('QQ')\n",
    "print(QQ.shape)\n",
    "print(QQ)\n",
    "print(' ')\n",
    "print('SS')\n",
    "print(SS.shape)\n",
    "print(SS)\n",
    "print(' ')\n",
    "print('Delta_up = ', Delta_up)\n",
    "print(' ')\n",
    "print('Xi_up = ', Xi_up)\n",
    "print(' ')\n",
    "print('UUU = ', UUU)\n",
    "print(' ')\n",
    "print('VVV = ', VVV)"
   ]
  },
  {
   "cell_type": "code",
   "execution_count": null,
   "metadata": {},
   "outputs": [],
   "source": []
  },
  {
   "cell_type": "code",
   "execution_count": null,
   "metadata": {},
   "outputs": [],
   "source": []
  }
 ],
 "metadata": {
  "kernelspec": {
   "display_name": "Python 3",
   "language": "python",
   "name": "python3"
  },
  "language_info": {
   "codemirror_mode": {
    "name": "ipython",
    "version": 3
   },
   "file_extension": ".py",
   "mimetype": "text/x-python",
   "name": "python",
   "nbconvert_exporter": "python",
   "pygments_lexer": "ipython3",
   "version": "3.7.3"
  }
 },
 "nbformat": 4,
 "nbformat_minor": 2
}
